{
 "cells": [
  {
   "cell_type": "code",
   "execution_count": 19,
   "metadata": {},
   "outputs": [],
   "source": [
    "import datajoint as dj\n",
    "dj.config[\"enable_python_native_blobs\"] = True"
   ]
  },
  {
   "cell_type": "code",
   "execution_count": 3,
   "metadata": {},
   "outputs": [],
   "source": [
    "import cai_database as db"
   ]
  },
  {
   "cell_type": "code",
   "execution_count": 11,
   "metadata": {},
   "outputs": [],
   "source": [
    "db.SRMTest.insert([\n",
    "    {'test_name': 'SRMt1', 'trials': 9, 'duration':45}, \n",
    "    {'test_name': 'SRMt2', 'trials': 7, 'duration':35}, \n",
    "    {'test_name': 'SRMt3', 'trials': 6, 'duration':30}, \n",
    "])"
   ]
  },
  {
   "cell_type": "code",
   "execution_count": null,
   "metadata": {},
   "outputs": [],
   "source": [
    "db.MouseSubject.insert([\n",
    "    {'cohort_id': 7, 'subject_id': 1, 'dob':'2018/08/15', 'sex': 'M', 'strain':'C57bl6', 'background':'Amigo2', 'genotype':'cre+/-'}, \n",
    "    {'cohort_id': 7, 'subject_id': 2, 'dob':'2018/08/15', 'sex': 'M', 'strain':'C57bl6', 'background':'Amigo2', 'genotype':'cre+/-'}, \n",
    "    {'cohort_id': 7, 'subject_id': 3, 'dob':'2018/08/15', 'sex': 'M', 'strain':'C57bl6', 'background':'Amigo2', 'genotype':'cre+/-'}, \n",
    "    {'cohort_id': 7, 'subject_id': 4, 'dob':'2018/08/15', 'sex': 'M', 'strain':'C57bl6', 'background':'Amigo2', 'genotype':'cre+/-'}, \n",
    "    {'cohort_id': 7, 'subject_id': 5, 'dob':'2018/08/15', 'sex': 'M', 'strain':'C57bl6', 'background':'Amigo2', 'genotype':'cre+/-'}, \n",
    "])"
   ]
  },
  {
   "cell_type": "code",
   "execution_count": 20,
   "metadata": {},
   "outputs": [],
   "source": [
    "db.RecordingSession.insert([\n",
    "    {'cohort_id':7,'subject_id':1,'test_name':'SRMt1', 'recording_id':3, 'experimenter':'Lara','recording_quality':'good','dropped_frames':([5,6]), 't1posn':1, 't2posn':1, 't3posn':1},\n",
    "    {'cohort_id':7,'subject_id':2,'test_name':'SRMt1', 'recording_id':5, 'experimenter':'Lara','recording_quality':'good','dropped_frames':([5,6]), 't1posn':1, 't2posn':1, 't3posn':1},\n",
    "    {'cohort_id':7,'subject_id':3,'test_name':'SRMt1', 'recording_id':2, 'experimenter':'Lara','recording_quality':'good','dropped_frames':([5,6]), 't1posn':1, 't2posn':1, 't3posn':1},\n",
    "    {'cohort_id':7,'subject_id':4,'test_name':'SRMt1', 'recording_id':4, 'experimenter':'Lara','recording_quality':'good','dropped_frames':([5,6]), 't1posn':1, 't2posn':1, 't3posn':1},\n",
    "    {'cohort_id':7,'subject_id':5,'test_name':'SRMt1', 'recording_id':1, 'experimenter':'Lara','recording_quality':'good','dropped_frames':([5,6]), 't1posn':1, 't2posn':1, 't3posn':1}\n",
    "])"
   ]
  },
  {
   "cell_type": "code",
   "execution_count": 21,
   "metadata": {},
   "outputs": [
    {
     "ename": "DataJointError",
     "evalue": "Cannot join query expressions on dependent attribute `comments`",
     "output_type": "error",
     "traceback": [
      "\u001b[1;31m---------------------------------------------------------------------------\u001b[0m",
      "\u001b[1;31mDataJointError\u001b[0m                            Traceback (most recent call last)",
      "\u001b[1;32m<ipython-input-21-1a396bb365bf>\u001b[0m in \u001b[0;36m<module>\u001b[1;34m\u001b[0m\n\u001b[1;32m----> 1\u001b[1;33m \u001b[0mdb\u001b[0m\u001b[1;33m.\u001b[0m\u001b[0mRecordingSession\u001b[0m\u001b[1;33m*\u001b[0m\u001b[0mdb\u001b[0m\u001b[1;33m.\u001b[0m\u001b[0mMouseSubject\u001b[0m\u001b[1;33m*\u001b[0m\u001b[0mdb\u001b[0m\u001b[1;33m.\u001b[0m\u001b[0mSRMTest\u001b[0m\u001b[1;33m\u001b[0m\u001b[1;33m\u001b[0m\u001b[0m\n\u001b[0m",
      "\u001b[1;32m~\\Anaconda3\\envs\\dockerenv\\lib\\site-packages\\datajoint\\user_tables.py\u001b[0m in \u001b[0;36m__mul__\u001b[1;34m(cls, arg)\u001b[0m\n\u001b[0;32m     55\u001b[0m \u001b[1;33m\u001b[0m\u001b[0m\n\u001b[0;32m     56\u001b[0m     \u001b[1;32mdef\u001b[0m \u001b[0m__mul__\u001b[0m\u001b[1;33m(\u001b[0m\u001b[0mcls\u001b[0m\u001b[1;33m,\u001b[0m \u001b[0marg\u001b[0m\u001b[1;33m)\u001b[0m\u001b[1;33m:\u001b[0m\u001b[1;33m\u001b[0m\u001b[1;33m\u001b[0m\u001b[0m\n\u001b[1;32m---> 57\u001b[1;33m         \u001b[1;32mreturn\u001b[0m \u001b[0mcls\u001b[0m\u001b[1;33m(\u001b[0m\u001b[1;33m)\u001b[0m \u001b[1;33m*\u001b[0m \u001b[0marg\u001b[0m\u001b[1;33m\u001b[0m\u001b[1;33m\u001b[0m\u001b[0m\n\u001b[0m\u001b[0;32m     58\u001b[0m \u001b[1;33m\u001b[0m\u001b[0m\n\u001b[0;32m     59\u001b[0m     \u001b[1;32mdef\u001b[0m \u001b[0m__add__\u001b[0m\u001b[1;33m(\u001b[0m\u001b[0mcls\u001b[0m\u001b[1;33m,\u001b[0m \u001b[0marg\u001b[0m\u001b[1;33m)\u001b[0m\u001b[1;33m:\u001b[0m\u001b[1;33m\u001b[0m\u001b[1;33m\u001b[0m\u001b[0m\n",
      "\u001b[1;32m~\\Anaconda3\\envs\\dockerenv\\lib\\site-packages\\datajoint\\expression.py\u001b[0m in \u001b[0;36m__mul__\u001b[1;34m(self, other)\u001b[0m\n\u001b[0;32m    225\u001b[0m         \u001b[0mnatural\u001b[0m \u001b[0mjoin\u001b[0m \u001b[0mof\u001b[0m \u001b[0mquery\u001b[0m \u001b[0mexpressions\u001b[0m\u001b[0;31m \u001b[0m\u001b[0;31m`\u001b[0m\u001b[0mself\u001b[0m\u001b[0;31m`\u001b[0m \u001b[1;32mand\u001b[0m\u001b[0;31m \u001b[0m\u001b[0;31m`\u001b[0m\u001b[0mother\u001b[0m\u001b[0;31m`\u001b[0m\u001b[1;33m\u001b[0m\u001b[1;33m\u001b[0m\u001b[0m\n\u001b[0;32m    226\u001b[0m         \"\"\"\n\u001b[1;32m--> 227\u001b[1;33m         \u001b[1;32mreturn\u001b[0m \u001b[0mother\u001b[0m \u001b[1;33m*\u001b[0m \u001b[0mself\u001b[0m \u001b[1;32mif\u001b[0m \u001b[0misinstance\u001b[0m\u001b[1;33m(\u001b[0m\u001b[0mother\u001b[0m\u001b[1;33m,\u001b[0m \u001b[0mU\u001b[0m\u001b[1;33m)\u001b[0m \u001b[1;32melse\u001b[0m \u001b[0mJoin\u001b[0m\u001b[1;33m.\u001b[0m\u001b[0mcreate\u001b[0m\u001b[1;33m(\u001b[0m\u001b[0mself\u001b[0m\u001b[1;33m,\u001b[0m \u001b[0mother\u001b[0m\u001b[1;33m)\u001b[0m\u001b[1;33m\u001b[0m\u001b[1;33m\u001b[0m\u001b[0m\n\u001b[0m\u001b[0;32m    228\u001b[0m \u001b[1;33m\u001b[0m\u001b[0m\n\u001b[0;32m    229\u001b[0m     \u001b[1;32mdef\u001b[0m \u001b[0m__add__\u001b[0m\u001b[1;33m(\u001b[0m\u001b[0mself\u001b[0m\u001b[1;33m,\u001b[0m \u001b[0mother\u001b[0m\u001b[1;33m)\u001b[0m\u001b[1;33m:\u001b[0m\u001b[1;33m\u001b[0m\u001b[1;33m\u001b[0m\u001b[0m\n",
      "\u001b[1;32m~\\Anaconda3\\envs\\dockerenv\\lib\\site-packages\\datajoint\\expression.py\u001b[0m in \u001b[0;36mcreate\u001b[1;34m(cls, arg1, arg2, keep_all_rows)\u001b[0m\n\u001b[0;32m    605\u001b[0m         \u001b[1;32mif\u001b[0m \u001b[0minspect\u001b[0m\u001b[1;33m.\u001b[0m\u001b[0misclass\u001b[0m\u001b[1;33m(\u001b[0m\u001b[0marg2\u001b[0m\u001b[1;33m)\u001b[0m \u001b[1;32mand\u001b[0m \u001b[0missubclass\u001b[0m\u001b[1;33m(\u001b[0m\u001b[0marg2\u001b[0m\u001b[1;33m,\u001b[0m \u001b[0mQueryExpression\u001b[0m\u001b[1;33m)\u001b[0m\u001b[1;33m:\u001b[0m\u001b[1;33m\u001b[0m\u001b[1;33m\u001b[0m\u001b[0m\n\u001b[0;32m    606\u001b[0m             \u001b[0marg2\u001b[0m \u001b[1;33m=\u001b[0m \u001b[0marg2\u001b[0m\u001b[1;33m(\u001b[0m\u001b[1;33m)\u001b[0m   \u001b[1;31m# instantiate if joining with a class\u001b[0m\u001b[1;33m\u001b[0m\u001b[1;33m\u001b[0m\u001b[0m\n\u001b[1;32m--> 607\u001b[1;33m         \u001b[0massert_join_compatibility\u001b[0m\u001b[1;33m(\u001b[0m\u001b[0marg1\u001b[0m\u001b[1;33m,\u001b[0m \u001b[0marg2\u001b[0m\u001b[1;33m)\u001b[0m\u001b[1;33m\u001b[0m\u001b[1;33m\u001b[0m\u001b[0m\n\u001b[0m\u001b[0;32m    608\u001b[0m         \u001b[1;32mif\u001b[0m \u001b[0marg1\u001b[0m\u001b[1;33m.\u001b[0m\u001b[0mconnection\u001b[0m \u001b[1;33m!=\u001b[0m \u001b[0marg2\u001b[0m\u001b[1;33m.\u001b[0m\u001b[0mconnection\u001b[0m\u001b[1;33m:\u001b[0m\u001b[1;33m\u001b[0m\u001b[1;33m\u001b[0m\u001b[0m\n\u001b[0;32m    609\u001b[0m             \u001b[1;32mraise\u001b[0m \u001b[0mDataJointError\u001b[0m\u001b[1;33m(\u001b[0m\u001b[1;34m\"Cannot join query expressions from different connections.\"\u001b[0m\u001b[1;33m)\u001b[0m\u001b[1;33m\u001b[0m\u001b[1;33m\u001b[0m\u001b[0m\n",
      "\u001b[1;32m~\\Anaconda3\\envs\\dockerenv\\lib\\site-packages\\datajoint\\expression.py\u001b[0m in \u001b[0;36massert_join_compatibility\u001b[1;34m(rel1, rel2)\u001b[0m\n\u001b[0;32m     31\u001b[0m         \u001b[1;32mtry\u001b[0m\u001b[1;33m:\u001b[0m\u001b[1;33m\u001b[0m\u001b[1;33m\u001b[0m\u001b[0m\n\u001b[0;32m     32\u001b[0m             raise DataJointError(\"Cannot join query expressions on dependent attribute `%s`\" % next(r for r in set(\n\u001b[1;32m---> 33\u001b[1;33m                 rel1.heading.secondary_attributes).intersection(rel2.heading.secondary_attributes)))\n\u001b[0m\u001b[0;32m     34\u001b[0m         \u001b[1;32mexcept\u001b[0m \u001b[0mStopIteration\u001b[0m\u001b[1;33m:\u001b[0m\u001b[1;33m\u001b[0m\u001b[1;33m\u001b[0m\u001b[0m\n\u001b[0;32m     35\u001b[0m             \u001b[1;32mpass\u001b[0m\u001b[1;33m\u001b[0m\u001b[1;33m\u001b[0m\u001b[0m\n",
      "\u001b[1;31mDataJointError\u001b[0m: Cannot join query expressions on dependent attribute `comments`"
     ]
    }
   ],
   "source": [
    "db.RecordingSession.proj('sex','age'*db.MouseSubject*db.SRMTest"
   ]
  },
  {
   "cell_type": "code",
   "execution_count": null,
   "metadata": {},
   "outputs": [],
   "source": []
  }
 ],
 "metadata": {
  "kernelspec": {
   "display_name": "Python 3",
   "language": "python",
   "name": "python3"
  },
  "language_info": {
   "codemirror_mode": {
    "name": "ipython",
    "version": 3
   },
   "file_extension": ".py",
   "mimetype": "text/x-python",
   "name": "python",
   "nbconvert_exporter": "python",
   "pygments_lexer": "ipython3",
   "version": "3.7.6"
  }
 },
 "nbformat": 4,
 "nbformat_minor": 4
}
