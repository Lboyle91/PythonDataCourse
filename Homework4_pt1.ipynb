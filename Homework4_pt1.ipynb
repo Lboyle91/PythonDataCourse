{
 "cells": [
  {
   "cell_type": "code",
   "execution_count": null,
   "metadata": {},
   "outputs": [],
   "source": [
    "import numpy as np\n",
    "import matplotlib.pyplot as plt\n",
    "import pandas as pd"
   ]
  },
  {
   "cell_type": "code",
   "execution_count": null,
   "metadata": {},
   "outputs": [],
   "source": [
    "class Dog:\n",
    "    \n",
    "    def __init__(self, name):\n",
    "        self.name=name"
   ]
  },
  {
   "cell_type": "code",
   "execution_count": null,
   "metadata": {},
   "outputs": [],
   "source": [
    "mydog = Dog('Jojo')"
   ]
  },
  {
   "cell_type": "code",
   "execution_count": null,
   "metadata": {},
   "outputs": [],
   "source": [
    "mydog.name"
   ]
  },
  {
   "cell_type": "code",
   "execution_count": null,
   "metadata": {},
   "outputs": [],
   "source": [
    "class Dog:\n",
    "\n",
    "    def __init__(self, name): \n",
    "        self.name=name\n",
    "        self.trick=[]\n",
    "        \n",
    "    def add_trick(self, trick): # this is a method attribute\n",
    "        self.trick.append(trick)"
   ]
  },
  {
   "cell_type": "code",
   "execution_count": null,
   "metadata": {},
   "outputs": [],
   "source": [
    "mydog = Dog('Jojo')\n",
    "mydog.add_trick('roll over')\n",
    "mydog.add_trick('play dead')\n",
    "mydog.add_trick('flippy flip')\n",
    "\n",
    "# print the tricks here\n",
    "print(mydog.trick)"
   ]
  },
  {
   "cell_type": "code",
   "execution_count": null,
   "metadata": {},
   "outputs": [],
   "source": [
    "class Dog:\n",
    "\n",
    "    def __init__(self, name, age, sex, breed): \n",
    "        self.name=name\n",
    "        self.age=age\n",
    "        self.sex=sex\n",
    "        self.breed=breed\n",
    "        self.trick=[]\n",
    "        \n",
    "    def add_trick(self, trick): # this is a method attribute\n",
    "        self.trick.append(trick)"
   ]
  },
  {
   "cell_type": "code",
   "execution_count": null,
   "metadata": {},
   "outputs": [],
   "source": [
    "mypup = Dog('Ringo',5,'M','Poodle')\n",
    "mypup.add_trick('roll over')\n",
    "mypup.add_trick('zigzag')\n",
    "\n",
    "herdog = Dog('Jojo',1,'F','Beagle')\n",
    "herdog.add_trick('play dead')\n",
    "herdog.add_trick('flippy flip')\n",
    "\n",
    "hisdog = Dog('Maia',17,'F','Daschund')\n",
    "hisdog.add_trick('balance treat')\n",
    "hisdog.add_trick('shake')\n"
   ]
  },
  {
   "cell_type": "code",
   "execution_count": null,
   "metadata": {},
   "outputs": [],
   "source": [
    "# print the tricks here\n",
    "print(mypup.trick)"
   ]
  },
  {
   "cell_type": "code",
   "execution_count": null,
   "metadata": {},
   "outputs": [],
   "source": [
    "class Dog:\n",
    "\n",
    "    def __init__(self, name, age, sex, breed): \n",
    "        self.name=name\n",
    "        self.age=age\n",
    "        self.sex=sex\n",
    "        self.breed=breed\n",
    "        self.trick=[]\n",
    "        \n",
    "    def add_trick(self, trick): # this is a method attribute\n",
    "        if len(self.trick)==0:\n",
    "            self.trick=[trick]\n",
    "        else:\n",
    "            self.trick.append(trick)\n",
    "        \n",
    "    def print_summary(self):\n",
    "        print('Dog name: {}'.format(self.name))\n",
    "        print('Dog age: {}'.format(self.age))\n",
    "        print('Dog sex: {}'.format(self.sex))\n",
    "        print('Dog breed: {}'.format(self.breed))\n",
    "        print('The dog knows the following tricks: ')\n",
    "              \n",
    "        for t in self.trick:\n",
    "              print(t)"
   ]
  },
  {
   "cell_type": "code",
   "execution_count": null,
   "metadata": {},
   "outputs": [],
   "source": [
    "mypup = Dog('Ringo',5,'M','Poodle')\n",
    "mypup.add_trick('roll over')\n",
    "mypup.add_trick('zigzag')\n",
    "\n",
    "herdog = Dog('Jojo',1,'F','Beagle')\n",
    "herdog.add_trick('play dead')\n",
    "herdog.add_trick('flippy flip')\n",
    "\n",
    "hisdog = Dog('Maia',17,'F','Daschund')\n",
    "hisdog.add_trick('balance treat')\n",
    "hisdog.add_trick('shake')"
   ]
  },
  {
   "cell_type": "code",
   "execution_count": null,
   "metadata": {},
   "outputs": [],
   "source": [
    "dogs=(mypup,herdog,hisdog)\n",
    "\n",
    "for d in dogs:\n",
    "    d.print_summary()"
   ]
  },
  {
   "cell_type": "code",
   "execution_count": null,
   "metadata": {},
   "outputs": [],
   "source": [
    "class Dog:\n",
    "\n",
    "    def __init__(self, name, age, sex, breed): \n",
    "        self.name=name\n",
    "        self.age=age\n",
    "        self.sex=sex\n",
    "        self.breed=breed\n",
    "        self.trick=[]\n",
    "        \n",
    "    def add_trick(self, trick): # this is a method attribute\n",
    "        if len(self.trick)==0:\n",
    "            self.trick=[trick]\n",
    "        else:\n",
    "            self.trick.append(trick)\n",
    "        \n",
    "    def print_summary(self):\n",
    "        print('Dog name: {}'.format(self.name))\n",
    "        print('Dog age: {}'.format(self.age))\n",
    "        print('Dog sex: {}'.format(self.sex))\n",
    "        print('Dog breed: {}'.format(self.breed))\n",
    "        print('The dog knows the following tricks: ')\n",
    "              \n",
    "        for t in self.trick:\n",
    "              print(t)\n",
    "                \n",
    "    def return_df(self):\n",
    "        data={\n",
    "            'name':self.name,\n",
    "            'age':self.age,\n",
    "            'sex':self.sex,\n",
    "            'breed':self.breed,\n",
    "            'tricks':self.trick\n",
    "        }\n",
    "        df=pd.DataFrame(data)\n",
    "        return df"
   ]
  },
  {
   "cell_type": "code",
   "execution_count": null,
   "metadata": {},
   "outputs": [],
   "source": [
    "jojo = Dog(name='Jojo',age=12,sex='M',breed ='collie')\n",
    "\n",
    "jojo.add_trick('roll over')\n",
    "jojo.add_trick('flippy flip')\n",
    "\n",
    "df = jojo.return_df()\n",
    "\n",
    "df.head()"
   ]
  },
  {
   "cell_type": "code",
   "execution_count": null,
   "metadata": {},
   "outputs": [],
   "source": []
  },
  {
   "cell_type": "code",
   "execution_count": null,
   "metadata": {},
   "outputs": [],
   "source": []
  },
  {
   "cell_type": "code",
   "execution_count": null,
   "metadata": {},
   "outputs": [],
   "source": []
  },
  {
   "cell_type": "code",
   "execution_count": null,
   "metadata": {},
   "outputs": [],
   "source": []
  },
  {
   "cell_type": "code",
   "execution_count": null,
   "metadata": {},
   "outputs": [],
   "source": []
  },
  {
   "cell_type": "code",
   "execution_count": null,
   "metadata": {},
   "outputs": [],
   "source": []
  }
 ],
 "metadata": {
  "kernelspec": {
   "display_name": "Python 3",
   "language": "python",
   "name": "python3"
  },
  "language_info": {
   "codemirror_mode": {
    "name": "ipython",
    "version": 3
   },
   "file_extension": ".py",
   "mimetype": "text/x-python",
   "name": "python",
   "nbconvert_exporter": "python",
   "pygments_lexer": "ipython3",
   "version": "3.7.1"
  }
 },
 "nbformat": 4,
 "nbformat_minor": 2
}
